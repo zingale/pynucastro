{
 "cells": [
  {
   "cell_type": "markdown",
   "metadata": {},
   "source": [
    "# pynucastro usage examples\n",
    "\n",
    "This notebook illustrates some of the higher-level data structures in `pynucastro`."
   ]
  },
  {
   "cell_type": "code",
   "execution_count": 1,
   "metadata": {
    "execution": {
     "iopub.execute_input": "2023-08-08T18:00:00.721751Z",
     "iopub.status.busy": "2023-08-08T18:00:00.721143Z",
     "iopub.status.idle": "2023-08-08T18:00:02.412222Z",
     "shell.execute_reply": "2023-08-08T18:00:02.411381Z"
    }
   },
   "outputs": [],
   "source": [
    "import pynucastro as pyna"
   ]
  },
  {
   "cell_type": "markdown",
   "metadata": {},
   "source": [
    "## Examining a single rate\n",
    "\n",
    "There are several ways to load a single rate.  If you down load the specific rate file from the JINA ReacLib website, then you can load the rate via `load_rate()` and\n",
    "just giving that file name, e.g.,\n",
    "```\n",
    "c13pg = pyna.load_rate(\"c13-pg-n14-nacr\")\n",
    "```\n",
    "\n",
    "However, an easier way to do this is to pass in the shorthand name for the rate to a library.  Here we'll read in the entire ReacLib library\n",
    "and get the ${}^{12}\\mathrm{C}(\\alpha,\\gamma){}^{16}\\mathrm{O}$ rate.  The result will be a `Rate` object (or an object of a class derived from `Rate`). There are a lot of methods in the `Rate` class that allow you to explore the rate."
   ]
  },
  {
   "cell_type": "code",
   "execution_count": 2,
   "metadata": {
    "execution": {
     "iopub.execute_input": "2023-08-08T18:00:02.416581Z",
     "iopub.status.busy": "2023-08-08T18:00:02.415954Z",
     "iopub.status.idle": "2023-08-08T18:00:08.673096Z",
     "shell.execute_reply": "2023-08-08T18:00:08.672284Z"
    }
   },
   "outputs": [],
   "source": [
    "rl = pyna.ReacLibLibrary()\n",
    "c13pg = rl.get_rate_by_name(\"c13(p,g)n14\")"
   ]
  },
  {
   "cell_type": "markdown",
   "metadata": {},
   "source": [
    "A `Rate` can display itself nicely"
   ]
  },
  {
   "cell_type": "code",
   "execution_count": 3,
   "metadata": {
    "execution": {
     "iopub.execute_input": "2023-08-08T18:00:08.676954Z",
     "iopub.status.busy": "2023-08-08T18:00:08.676466Z",
     "iopub.status.idle": "2023-08-08T18:00:08.689070Z",
     "shell.execute_reply": "2023-08-08T18:00:08.688250Z"
    }
   },
   "outputs": [
    {
     "data": {
      "text/plain": [
       "C13 + p ⟶ N14 + 𝛾"
      ]
     },
     "execution_count": 3,
     "metadata": {},
     "output_type": "execute_result"
    }
   ],
   "source": [
    "c13pg"
   ]
  },
  {
   "cell_type": "markdown",
   "metadata": {},
   "source": [
    "### the original reaclib source\n",
    "\n",
    "we can easily see the original source from ReacLib"
   ]
  },
  {
   "cell_type": "code",
   "execution_count": 4,
   "metadata": {
    "execution": {
     "iopub.execute_input": "2023-08-08T18:00:08.693085Z",
     "iopub.status.busy": "2023-08-08T18:00:08.692381Z",
     "iopub.status.idle": "2023-08-08T18:00:08.696899Z",
     "shell.execute_reply": "2023-08-08T18:00:08.695994Z"
    }
   },
   "outputs": [
    {
     "name": "stdout",
     "output_type": "stream",
     "text": [
      "4\n",
      "         p  c13  n14                       nacrr     7.55100e+00          \n",
      " 1.518250e+01-1.355430e+01 0.000000e+00 0.000000e+00                      \n",
      " 0.000000e+00 0.000000e+00-1.500000e+00                                   \n",
      "4\n",
      "         p  c13  n14                       nacrn     7.55100e+00          \n",
      " 1.851550e+01 0.000000e+00-1.372000e+01-4.500180e-01                      \n",
      " 3.708230e+00-1.705450e+00-6.666670e-01                                   \n",
      "4\n",
      "         p  c13  n14                       nacrr     7.55100e+00          \n",
      " 1.396370e+01-5.781470e+00 0.000000e+00-1.967030e-01                      \n",
      " 1.421260e-01-2.389120e-02-1.500000e+00                                   \n"
     ]
    }
   ],
   "source": [
    "print(c13pg.original_source)"
   ]
  },
  {
   "cell_type": "markdown",
   "metadata": {},
   "source": [
    "This is a rate that consists of 3 sets, each of which has 7 coefficients in a form:\n",
    "\n",
    "$$\\lambda = \\exp \\left [ a_0 + \\sum_{i=1}^5 a_i T_9^{(2i-5)/3} + a_6 \\ln T_9 \\right ]$$"
   ]
  },
  {
   "cell_type": "markdown",
   "metadata": {},
   "source": [
    "### evaluate the rate at a given temperature (in K)\n",
    "\n",
    "This is just the temperature dependent portion of the rate, usually expressed as $N_A \\langle \\sigma v \\rangle$"
   ]
  },
  {
   "cell_type": "code",
   "execution_count": 5,
   "metadata": {
    "execution": {
     "iopub.execute_input": "2023-08-08T18:00:08.700841Z",
     "iopub.status.busy": "2023-08-08T18:00:08.700396Z",
     "iopub.status.idle": "2023-08-08T18:00:10.019595Z",
     "shell.execute_reply": "2023-08-08T18:00:10.018735Z"
    }
   },
   "outputs": [
    {
     "data": {
      "text/plain": [
       "3883.4778216250666"
      ]
     },
     "execution_count": 5,
     "metadata": {},
     "output_type": "execute_result"
    }
   ],
   "source": [
    "c13pg.eval(1.e9)"
   ]
  },
  {
   "cell_type": "markdown",
   "metadata": {},
   "source": [
    "### nuclei involved\n",
    "\n",
    "The nuclei involved are all `Nucleus` objects.  They have members `Z` and `N` that give the proton and neutron number"
   ]
  },
  {
   "cell_type": "code",
   "execution_count": 6,
   "metadata": {
    "execution": {
     "iopub.execute_input": "2023-08-08T18:00:10.023168Z",
     "iopub.status.busy": "2023-08-08T18:00:10.022641Z",
     "iopub.status.idle": "2023-08-08T18:00:10.026806Z",
     "shell.execute_reply": "2023-08-08T18:00:10.026032Z"
    }
   },
   "outputs": [
    {
     "name": "stdout",
     "output_type": "stream",
     "text": [
      "[p, c13]\n",
      "[n14]\n"
     ]
    }
   ],
   "source": [
    "print(c13pg.reactants)\n",
    "print(c13pg.products)"
   ]
  },
  {
   "cell_type": "code",
   "execution_count": 7,
   "metadata": {
    "execution": {
     "iopub.execute_input": "2023-08-08T18:00:10.031186Z",
     "iopub.status.busy": "2023-08-08T18:00:10.030660Z",
     "iopub.status.idle": "2023-08-08T18:00:10.035068Z",
     "shell.execute_reply": "2023-08-08T18:00:10.033629Z"
    }
   },
   "outputs": [],
   "source": [
    "r2 = c13pg.reactants[1]"
   ]
  },
  {
   "cell_type": "markdown",
   "metadata": {},
   "source": [
    "Note that each of the nuclei are a pynucastro `Nucleus` type"
   ]
  },
  {
   "cell_type": "code",
   "execution_count": 8,
   "metadata": {
    "execution": {
     "iopub.execute_input": "2023-08-08T18:00:10.039402Z",
     "iopub.status.busy": "2023-08-08T18:00:10.038675Z",
     "iopub.status.idle": "2023-08-08T18:00:10.044825Z",
     "shell.execute_reply": "2023-08-08T18:00:10.042944Z"
    }
   },
   "outputs": [
    {
     "data": {
      "text/plain": [
       "pynucastro.nucdata.nucleus.Nucleus"
      ]
     },
     "execution_count": 8,
     "metadata": {},
     "output_type": "execute_result"
    }
   ],
   "source": [
    "type(r2)"
   ]
  },
  {
   "cell_type": "code",
   "execution_count": 9,
   "metadata": {
    "execution": {
     "iopub.execute_input": "2023-08-08T18:00:10.048178Z",
     "iopub.status.busy": "2023-08-08T18:00:10.047628Z",
     "iopub.status.idle": "2023-08-08T18:00:10.051805Z",
     "shell.execute_reply": "2023-08-08T18:00:10.051002Z"
    }
   },
   "outputs": [
    {
     "name": "stdout",
     "output_type": "stream",
     "text": [
      "6 7\n"
     ]
    }
   ],
   "source": [
    "print(r2.Z, r2.N)"
   ]
  },
  {
   "cell_type": "markdown",
   "metadata": {},
   "source": [
    "### temperature sensitivity"
   ]
  },
  {
   "cell_type": "markdown",
   "metadata": {},
   "source": [
    "We can find the temperature sensitivity about some reference temperature.  This is the exponent when we write the rate as \n",
    "\n",
    "$$r = r_0 \\left ( \\frac{T}{T_0} \\right )^\\nu$$.\n",
    "\n",
    "We can estimate this given a reference temperature, $T_0$"
   ]
  },
  {
   "cell_type": "code",
   "execution_count": 10,
   "metadata": {
    "execution": {
     "iopub.execute_input": "2023-08-08T18:00:10.056426Z",
     "iopub.status.busy": "2023-08-08T18:00:10.055922Z",
     "iopub.status.idle": "2023-08-08T18:00:10.064648Z",
     "shell.execute_reply": "2023-08-08T18:00:10.063566Z"
    },
    "tags": [
     "nbval-ignore-output"
    ]
   },
   "outputs": [
    {
     "data": {
      "text/plain": [
       "16.210896691201043"
      ]
     },
     "execution_count": 10,
     "metadata": {},
     "output_type": "execute_result"
    }
   ],
   "source": [
    "c13pg.get_rate_exponent(2.e7)"
   ]
  },
  {
   "cell_type": "markdown",
   "metadata": {},
   "source": [
    "### plot the rate's temperature dependence\n",
    "\n",
    "A reaction rate has a complex temperature dependence that is defined in the reaclib files.  The `plot()` method will plot this for us"
   ]
  },
  {
   "cell_type": "code",
   "execution_count": 11,
   "metadata": {
    "execution": {
     "iopub.execute_input": "2023-08-08T18:00:10.069490Z",
     "iopub.status.busy": "2023-08-08T18:00:10.068961Z",
     "iopub.status.idle": "2023-08-08T18:00:10.558044Z",
     "shell.execute_reply": "2023-08-08T18:00:10.557039Z"
    },
    "tags": [
     "nbval-skip"
    ]
   },
   "outputs": [
    {
     "data": {
      "image/png": "[encoded data removed]",
      "text/plain": [
       "<Figure size 1000x1000 with 1 Axes>"
      ]
     },
     "metadata": {},
     "output_type": "display_data"
    }
   ],
   "source": [
    "fig = c13pg.plot()"
   ]
  },
  {
   "cell_type": "markdown",
   "metadata": {},
   "source": [
    "### density dependence\n",
    "\n",
    "A rate also knows its density dependence -- this is inferred from the reactants in the rate description and is used to construct the terms needed to write a reaction network.  Note: since we want reaction rates per gram, this number is 1 less than the number of nuclei"
   ]
  },
  {
   "cell_type": "code",
   "execution_count": 12,
   "metadata": {
    "execution": {
     "iopub.execute_input": "2023-08-08T18:00:10.561506Z",
     "iopub.status.busy": "2023-08-08T18:00:10.561208Z",
     "iopub.status.idle": "2023-08-08T18:00:10.567045Z",
     "shell.execute_reply": "2023-08-08T18:00:10.566172Z"
    }
   },
   "outputs": [
    {
     "data": {
      "text/plain": [
       "1"
      ]
     },
     "execution_count": 12,
     "metadata": {},
     "output_type": "execute_result"
    }
   ],
   "source": [
    "c13pg.dens_exp"
   ]
  },
  {
   "cell_type": "markdown",
   "metadata": {},
   "source": [
    "## Working with a group of rates\n",
    "\n",
    "A `RateCollection()` class allows us to work with a group of rates.  This is used to explore their relationship.  Other classes (introduced soon) are built on this and will allow us to output network code directly.\n",
    "\n",
    "Here we create a list with some of the individual rates in the ReacLib library"
   ]
  },
  {
   "cell_type": "code",
   "execution_count": 13,
   "metadata": {
    "execution": {
     "iopub.execute_input": "2023-08-08T18:00:10.571298Z",
     "iopub.status.busy": "2023-08-08T18:00:10.570604Z",
     "iopub.status.idle": "2023-08-08T18:00:12.015082Z",
     "shell.execute_reply": "2023-08-08T18:00:12.014166Z"
    }
   },
   "outputs": [],
   "source": [
    "rate_names = [\"c12(p,g)n13\",\n",
    "              \"c13(p,g)n14\",\n",
    "              \"n13(,)c13\",\n",
    "              \"n13(p,g)o14\",\n",
    "              \"n14(p,g)o15\",\n",
    "              \"n15(p,a)c12\",\n",
    "              \"o14(,)n14\",\n",
    "              \"o15(,)n15\"]\n",
    "\n",
    "rates = rl.get_rate_by_name(rate_names)\n",
    "rc = pyna.RateCollection(rates=rates)"
   ]
  },
  {
   "cell_type": "markdown",
   "metadata": {},
   "source": [
    "Printing a rate collection shows all the rates"
   ]
  },
  {
   "cell_type": "code",
   "execution_count": 14,
   "metadata": {
    "execution": {
     "iopub.execute_input": "2023-08-08T18:00:12.019211Z",
     "iopub.status.busy": "2023-08-08T18:00:12.018547Z",
     "iopub.status.idle": "2023-08-08T18:00:12.024644Z",
     "shell.execute_reply": "2023-08-08T18:00:12.023782Z"
    }
   },
   "outputs": [
    {
     "name": "stdout",
     "output_type": "stream",
     "text": [
      "C12 + p ⟶ N13 + 𝛾\n",
      "C13 + p ⟶ N14 + 𝛾\n",
      "N13 ⟶ C13 + e⁺ + 𝜈\n",
      "N13 + p ⟶ O14 + 𝛾\n",
      "N14 + p ⟶ O15 + 𝛾\n",
      "N15 + p ⟶ He4 + C12\n",
      "O14 ⟶ N14 + e⁺ + 𝜈\n",
      "O15 ⟶ N15 + e⁺ + 𝜈\n",
      "\n"
     ]
    }
   ],
   "source": [
    "print(rc)"
   ]
  },
  {
   "cell_type": "markdown",
   "metadata": {},
   "source": [
    "More detailed information is provided by `network_overview()`"
   ]
  },
  {
   "cell_type": "code",
   "execution_count": 15,
   "metadata": {
    "execution": {
     "iopub.execute_input": "2023-08-08T18:00:12.028128Z",
     "iopub.status.busy": "2023-08-08T18:00:12.027694Z",
     "iopub.status.idle": "2023-08-08T18:00:12.031551Z",
     "shell.execute_reply": "2023-08-08T18:00:12.030949Z"
    }
   },
   "outputs": [
    {
     "name": "stdout",
     "output_type": "stream",
     "text": [
      "p\n",
      "  consumed by:\n",
      "     C12 + p ⟶ N13 + 𝛾\n",
      "     C13 + p ⟶ N14 + 𝛾\n",
      "     N13 + p ⟶ O14 + 𝛾\n",
      "     N14 + p ⟶ O15 + 𝛾\n",
      "     N15 + p ⟶ He4 + C12\n",
      "  produced by:\n",
      "\n",
      "he4\n",
      "  consumed by:\n",
      "  produced by:\n",
      "     N15 + p ⟶ He4 + C12\n",
      "\n",
      "c12\n",
      "  consumed by:\n",
      "     C12 + p ⟶ N13 + 𝛾\n",
      "  produced by:\n",
      "     N15 + p ⟶ He4 + C12\n",
      "\n",
      "c13\n",
      "  consumed by:\n",
      "     C13 + p ⟶ N14 + 𝛾\n",
      "  produced by:\n",
      "     N13 ⟶ C13 + e⁺ + 𝜈\n",
      "\n",
      "n13\n",
      "  consumed by:\n",
      "     N13 ⟶ C13 + e⁺ + 𝜈\n",
      "     N13 + p ⟶ O14 + 𝛾\n",
      "  produced by:\n",
      "     C12 + p ⟶ N13 + 𝛾\n",
      "\n",
      "n14\n",
      "  consumed by:\n",
      "     N14 + p ⟶ O15 + 𝛾\n",
      "  produced by:\n",
      "     C13 + p ⟶ N14 + 𝛾\n",
      "     O14 ⟶ N14 + e⁺ + 𝜈\n",
      "\n",
      "n15\n",
      "  consumed by:\n",
      "     N15 + p ⟶ He4 + C12\n",
      "  produced by:\n",
      "     O15 ⟶ N15 + e⁺ + 𝜈\n",
      "\n",
      "o14\n",
      "  consumed by:\n",
      "     O14 ⟶ N14 + e⁺ + 𝜈\n",
      "  produced by:\n",
      "     N13 + p ⟶ O14 + 𝛾\n",
      "\n",
      "o15\n",
      "  consumed by:\n",
      "     O15 ⟶ N15 + e⁺ + 𝜈\n",
      "  produced by:\n",
      "     N14 + p ⟶ O15 + 𝛾\n",
      "\n",
      "\n"
     ]
    }
   ],
   "source": [
    "print(rc.network_overview())"
   ]
  },
  {
   "cell_type": "markdown",
   "metadata": {},
   "source": [
    "### show a network diagram\n",
    "\n",
    "We visualize the network using NetworkX.  By default, this does not show H or He unless we have H + H or triple-alpha reactions in the network.  This is intended to reduce clutter."
   ]
  },
  {
   "cell_type": "code",
   "execution_count": 16,
   "metadata": {
    "execution": {
     "iopub.execute_input": "2023-08-08T18:00:12.035380Z",
     "iopub.status.busy": "2023-08-08T18:00:12.034638Z",
     "iopub.status.idle": "2023-08-08T18:00:12.320779Z",
     "shell.execute_reply": "2023-08-08T18:00:12.320048Z"
    },
    "tags": [
     "nbval-skip"
    ]
   },
   "outputs": [
    {
     "data": {
      "image/png": "[encoded data removed]",
      "text/plain": [
       "<Figure size 800x600 with 1 Axes>"
      ]
     },
     "metadata": {},
     "output_type": "display_data"
    }
   ],
   "source": [
    "fig = rc.plot()"
   ]
  },
  {
   "cell_type": "markdown",
   "metadata": {},
   "source": [
    "There are many options that can be used to configure this plot, for instance, creating a rotated version (useful for very large nets)."
   ]
  },
  {
   "cell_type": "markdown",
   "metadata": {},
   "source": [
    "## Explore the network's rates"
   ]
  },
  {
   "cell_type": "markdown",
   "metadata": {},
   "source": [
    "To evaluate the rates, we need a composition"
   ]
  },
  {
   "cell_type": "code",
   "execution_count": 17,
   "metadata": {
    "execution": {
     "iopub.execute_input": "2023-08-08T18:00:12.324577Z",
     "iopub.status.busy": "2023-08-08T18:00:12.323986Z",
     "iopub.status.idle": "2023-08-08T18:00:12.327952Z",
     "shell.execute_reply": "2023-08-08T18:00:12.327330Z"
    }
   },
   "outputs": [],
   "source": [
    "comp = pyna.Composition(rc.get_nuclei())\n",
    "comp.set_solar_like()"
   ]
  },
  {
   "cell_type": "markdown",
   "metadata": {},
   "source": [
    "Interactive exploration is enabled through the `Explorer` class, which takes a `RateCollection` and a `Composition`"
   ]
  },
  {
   "cell_type": "code",
   "execution_count": 18,
   "metadata": {
    "execution": {
     "iopub.execute_input": "2023-08-08T18:00:12.331002Z",
     "iopub.status.busy": "2023-08-08T18:00:12.330502Z",
     "iopub.status.idle": "2023-08-08T18:00:12.676725Z",
     "shell.execute_reply": "2023-08-08T18:00:12.676082Z"
    },
    "tags": [
     "nbval-skip"
    ]
   },
   "outputs": [
    {
     "data": {
      "application/vnd.jupyter.widget-view+json": {
       "model_id": "a7e1b1e354e940a6a77502f2de090508",
       "version_major": 2,
       "version_minor": 0
      },
      "text/plain": [
       "interactive(children=(FloatSlider(value=4.0, description='logrho', max=6.0, min=2.0), FloatSlider(value=8.0, d…"
      ]
     },
     "metadata": {},
     "output_type": "display_data"
    }
   ],
   "source": [
    "re = pyna.Explorer(rc, comp)\n",
    "re.explore()"
   ]
  }
 ],
 "metadata": {
  "kernelspec": {
   "display_name": "Python 3 (ipykernel)",
   "language": "python",
   "name": "python3"
  },
  "language_info": {
   "codemirror_mode": {
    "name": "ipython",
    "version": 3
   },
   "file_extension": ".py",
   "mimetype": "text/x-python",
   "name": "python",
   "nbconvert_exporter": "python",
   "pygments_lexer": "ipython3",
   "version": "3.10.12"
  },
  "widgets": {
   "application/vnd.jupyter.widget-state+json": {
    "state": {
     "2f8c34f293384881b4dcb580a0bc38a5": {
      "model_module": "@jupyter-widgets/base",
      "model_module_version": "2.0.0",
      "model_name": "LayoutModel",
      "state": {
       "_model_module": "@jupyter-widgets/base",
       "_model_module_version": "2.0.0",
       "_model_name": "LayoutModel",
       "_view_count": null,
       "_view_module": "@jupyter-widgets/base",
       "_view_module_version": "2.0.0",
       "_view_name": "LayoutView",
       "align_content": null,
       "align_items": null,
       "align_self": null,
       "border_bottom": null,
       "border_left": null,
       "border_right": null,
       "border_top": null,
       "bottom": null,
       "display": null,
       "flex": null,
       "flex_flow": null,
       "grid_area": null,
       "grid_auto_columns": null,
       "grid_auto_flow": null,
       "grid_auto_rows": null,
       "grid_column": null,
       "grid_gap": null,
       "grid_row": null,
       "grid_template_areas": null,
       "grid_template_columns": null,
       "grid_template_rows": null,
       "height": null,
       "justify_content": null,
       "justify_items": null,
       "left": null,
       "margin": null,
       "max_height": null,
       "max_width": null,
       "min_height": null,
       "min_width": null,
       "object_fit": null,
       "object_position": null,
       "order": null,
       "overflow": null,
       "padding": null,
       "right": null,
       "top": null,
       "visibility": null,
       "width": null
      }
     },
     "516f753288f54e83b1acd2f40659f4b0": {
      "model_module": "@jupyter-widgets/controls",
      "model_module_version": "2.0.0",
      "model_name": "SliderStyleModel",
      "state": {
       "_model_module": "@jupyter-widgets/controls",
       "_model_module_version": "2.0.0",
       "_model_name": "SliderStyleModel",
       "_view_count": null,
       "_view_module": "@jupyter-widgets/base",
       "_view_module_version": "2.0.0",
       "_view_name": "StyleView",
       "description_width": "",
       "handle_color": null
      }
     },
     "5973309318b54e9b9c1a19a71739c782": {
      "model_module": "@jupyter-widgets/base",
      "model_module_version": "2.0.0",
      "model_name": "LayoutModel",
      "state": {
       "_model_module": "@jupyter-widgets/base",
       "_model_module_version": "2.0.0",
       "_model_name": "LayoutModel",
       "_view_count": null,
       "_view_module": "@jupyter-widgets/base",
       "_view_module_version": "2.0.0",
       "_view_name": "LayoutView",
       "align_content": null,
       "align_items": null,
       "align_self": null,
       "border_bottom": null,
       "border_left": null,
       "border_right": null,
       "border_top": null,
       "bottom": null,
       "display": null,
       "flex": null,
       "flex_flow": null,
       "grid_area": null,
       "grid_auto_columns": null,
       "grid_auto_flow": null,
       "grid_auto_rows": null,
       "grid_column": null,
       "grid_gap": null,
       "grid_row": null,
       "grid_template_areas": null,
       "grid_template_columns": null,
       "grid_template_rows": null,
       "height": null,
       "justify_content": null,
       "justify_items": null,
       "left": null,
       "margin": null,
       "max_height": null,
       "max_width": null,
       "min_height": null,
       "min_width": null,
       "object_fit": null,
       "object_position": null,
       "order": null,
       "overflow": null,
       "padding": null,
       "right": null,
       "top": null,
       "visibility": null,
       "width": null
      }
     },
     "7a3078d3bc9b4d73a4b7a3be97bf4792": {
      "model_module": "@jupyter-widgets/base",
      "model_module_version": "2.0.0",
      "model_name": "LayoutModel",
      "state": {
       "_model_module": "@jupyter-widgets/base",
       "_model_module_version": "2.0.0",
       "_model_name": "LayoutModel",
       "_view_count": null,
       "_view_module": "@jupyter-widgets/base",
       "_view_module_version": "2.0.0",
       "_view_name": "LayoutView",
       "align_content": null,
       "align_items": null,
       "align_self": null,
       "border_bottom": null,
       "border_left": null,
       "border_right": null,
       "border_top": null,
       "bottom": null,
       "display": null,
       "flex": null,
       "flex_flow": null,
       "grid_area": null,
       "grid_auto_columns": null,
       "grid_auto_flow": null,
       "grid_auto_rows": null,
       "grid_column": null,
       "grid_gap": null,
       "grid_row": null,
       "grid_template_areas": null,
       "grid_template_columns": null,
       "grid_template_rows": null,
       "height": null,
       "justify_content": null,
       "justify_items": null,
       "left": null,
       "margin": null,
       "max_height": null,
       "max_width": null,
       "min_height": null,
       "min_width": null,
       "object_fit": null,
       "object_position": null,
       "order": null,
       "overflow": null,
       "padding": null,
       "right": null,
       "top": null,
       "visibility": null,
       "width": null
      }
     },
     "7ce57a4ff92c4250b4627852cdd586bf": {
      "model_module": "@jupyter-widgets/output",
      "model_module_version": "1.0.0",
      "model_name": "OutputModel",
      "state": {
       "_dom_classes": [],
       "_model_module": "@jupyter-widgets/output",
       "_model_module_version": "1.0.0",
       "_model_name": "OutputModel",
       "_view_count": null,
       "_view_module": "@jupyter-widgets/output",
       "_view_module_version": "1.0.0",
       "_view_name": "OutputView",
       "layout": "IPY_MODEL_df4483d63f4e4977a377225296dedca6",
       "msg_id": "",
       "outputs": [
        {
         "data": {
          "image/png": "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",
          "text/plain": "<Figure size 800x600 with 2 Axes>"
         },
         "metadata": {},
         "output_type": "display_data"
        }
       ],
       "tabbable": null,
       "tooltip": null
      }
     },
     "8696023c6c85412290ae38edb003dce2": {
      "model_module": "@jupyter-widgets/controls",
      "model_module_version": "2.0.0",
      "model_name": "SliderStyleModel",
      "state": {
       "_model_module": "@jupyter-widgets/controls",
       "_model_module_version": "2.0.0",
       "_model_name": "SliderStyleModel",
       "_view_count": null,
       "_view_module": "@jupyter-widgets/base",
       "_view_module_version": "2.0.0",
       "_view_name": "StyleView",
       "description_width": "",
       "handle_color": null
      }
     },
     "9f93d061be204797ae8893c64e053026": {
      "model_module": "@jupyter-widgets/controls",
      "model_module_version": "2.0.0",
      "model_name": "FloatSliderModel",
      "state": {
       "_dom_classes": [],
       "_model_module": "@jupyter-widgets/controls",
       "_model_module_version": "2.0.0",
       "_model_name": "FloatSliderModel",
       "_view_count": null,
       "_view_module": "@jupyter-widgets/controls",
       "_view_module_version": "2.0.0",
       "_view_name": "FloatSliderView",
       "behavior": "drag-tap",
       "continuous_update": true,
       "description": "logT",
       "description_allow_html": false,
       "disabled": false,
       "layout": "IPY_MODEL_5973309318b54e9b9c1a19a71739c782",
       "max": 9.0,
       "min": 7.0,
       "orientation": "horizontal",
       "readout": true,
       "readout_format": ".2f",
       "step": 0.1,
       "style": "IPY_MODEL_516f753288f54e83b1acd2f40659f4b0",
       "tabbable": null,
       "tooltip": null,
       "value": 8.0
      }
     },
     "a7e1b1e354e940a6a77502f2de090508": {
      "model_module": "@jupyter-widgets/controls",
      "model_module_version": "2.0.0",
      "model_name": "VBoxModel",
      "state": {
       "_dom_classes": [
        "widget-interact"
       ],
       "_model_module": "@jupyter-widgets/controls",
       "_model_module_version": "2.0.0",
       "_model_name": "VBoxModel",
       "_view_count": null,
       "_view_module": "@jupyter-widgets/controls",
       "_view_module_version": "2.0.0",
       "_view_name": "VBoxView",
       "box_style": "",
       "children": [
        "IPY_MODEL_e3624c071c20419d9eed3b6f0cc60d86",
        "IPY_MODEL_9f93d061be204797ae8893c64e053026",
        "IPY_MODEL_7ce57a4ff92c4250b4627852cdd586bf"
       ],
       "layout": "IPY_MODEL_7a3078d3bc9b4d73a4b7a3be97bf4792",
       "tabbable": null,
       "tooltip": null
      }
     },
     "df4483d63f4e4977a377225296dedca6": {
      "model_module": "@jupyter-widgets/base",
      "model_module_version": "2.0.0",
      "model_name": "LayoutModel",
      "state": {
       "_model_module": "@jupyter-widgets/base",
       "_model_module_version": "2.0.0",
       "_model_name": "LayoutModel",
       "_view_count": null,
       "_view_module": "@jupyter-widgets/base",
       "_view_module_version": "2.0.0",
       "_view_name": "LayoutView",
       "align_content": null,
       "align_items": null,
       "align_self": null,
       "border_bottom": null,
       "border_left": null,
       "border_right": null,
       "border_top": null,
       "bottom": null,
       "display": null,
       "flex": null,
       "flex_flow": null,
       "grid_area": null,
       "grid_auto_columns": null,
       "grid_auto_flow": null,
       "grid_auto_rows": null,
       "grid_column": null,
       "grid_gap": null,
       "grid_row": null,
       "grid_template_areas": null,
       "grid_template_columns": null,
       "grid_template_rows": null,
       "height": null,
       "justify_content": null,
       "justify_items": null,
       "left": null,
       "margin": null,
       "max_height": null,
       "max_width": null,
       "min_height": null,
       "min_width": null,
       "object_fit": null,
       "object_position": null,
       "order": null,
       "overflow": null,
       "padding": null,
       "right": null,
       "top": null,
       "visibility": null,
       "width": null
      }
     },
     "e3624c071c20419d9eed3b6f0cc60d86": {
      "model_module": "@jupyter-widgets/controls",
      "model_module_version": "2.0.0",
      "model_name": "FloatSliderModel",
      "state": {
       "_dom_classes": [],
       "_model_module": "@jupyter-widgets/controls",
       "_model_module_version": "2.0.0",
       "_model_name": "FloatSliderModel",
       "_view_count": null,
       "_view_module": "@jupyter-widgets/controls",
       "_view_module_version": "2.0.0",
       "_view_name": "FloatSliderView",
       "behavior": "drag-tap",
       "continuous_update": true,
       "description": "logrho",
       "description_allow_html": false,
       "disabled": false,
       "layout": "IPY_MODEL_2f8c34f293384881b4dcb580a0bc38a5",
       "max": 6.0,
       "min": 2.0,
       "orientation": "horizontal",
       "readout": true,
       "readout_format": ".2f",
       "step": 0.1,
       "style": "IPY_MODEL_8696023c6c85412290ae38edb003dce2",
       "tabbable": null,
       "tooltip": null,
       "value": 4.0
      }
     }
    },
    "version_major": 2,
    "version_minor": 0
   }
  }
 },
 "nbformat": 4,
 "nbformat_minor": 4
}
